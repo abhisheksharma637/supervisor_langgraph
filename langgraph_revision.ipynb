{
 "cells": [
  {
   "cell_type": "code",
   "execution_count": 1,
   "id": "37232e73",
   "metadata": {},
   "outputs": [],
   "source": [
    "from langgraph.graph import StateGraph,START,END\n",
    "from pydantic import BaseModel\n",
    "from typing_extensions import Annotated,List,Literal\n",
    "from langchain_groq import ChatGroq\n",
    "from langgraph.graph.message import add_messages\n",
    "import os\n",
    "from dotenv import load_dotenv\n",
    "load_dotenv()\n",
    "from typing import TypedDict\n",
    "from langchain_core.prompts import ChatPromptTemplate,MessagesPlaceholder\n",
    "\n"
   ]
  },
  {
   "cell_type": "code",
   "execution_count": 73,
   "id": "c411068c",
   "metadata": {},
   "outputs": [],
   "source": [
    "os.environ['GROQ_API_KEY']=os.getenv('GROQ_API_KEY')\n",
    "llm=ChatGroq(model='gemma2-9b-it')"
   ]
  },
  {
   "cell_type": "code",
   "execution_count": 74,
   "id": "63e6d9bf",
   "metadata": {},
   "outputs": [],
   "source": [
    "class stategraph(TypedDict):\n",
    "    messages: Annotated[List[str],add_messages]\n",
    "    next_agent:str = \"\"\n",
    "    analyzed_text:str = \"\"\n",
    "    written_text:str = \"\"\n",
    "    analysis_done:str = \"\"\n",
    "    written_done: str = \"\""
   ]
  },
  {
   "cell_type": "code",
   "execution_count": 75,
   "id": "3837b82a",
   "metadata": {},
   "outputs": [],
   "source": [
    "def command_center(state:stategraph):\n",
    "    recent_message=state['messages'][-1].content\n",
    "    if len(state['analysis_done'])==0:\n",
    "        return {\"next_agent\":\"analysis_agent\"}\n",
    "    elif len(state['written_done'])==0:\n",
    "        return {\"next_agent\":\"writing_center\"}\n",
    "    else:\n",
    "        return {\"next_agent\":\"DONE\"}"
   ]
  },
  {
   "cell_type": "code",
   "execution_count": 76,
   "id": "433e0f3a",
   "metadata": {},
   "outputs": [],
   "source": [
    "def analysis_center(state:stategraph):\n",
    "    recent_message=state['messages'][-1].content\n",
    "    prompt=ChatPromptTemplate.from_messages([\n",
    "        (\"system\",\"You are a helpful assistant\"),\n",
    "        (\"human\",\"Analyze the given {task}\")\n",
    "    ])\n",
    "    chain=(prompt|llm)\n",
    "    response=chain.invoke({\"task\":recent_message})\n",
    "    return {\"analyzed_text\":response.content,\"analysis_done\":\"done\",\"next_agent\":\"command_center\"}\n",
    "                                            \n",
    "                                            \n",
    "                                            \n",
    "                                            "
   ]
  },
  {
   "cell_type": "code",
   "execution_count": 77,
   "id": "1391c685",
   "metadata": {},
   "outputs": [],
   "source": [
    "def writing_center(state:stategraph):\n",
    "    content_to_write=state['analyzed_text']\n",
    "    prompt=ChatPromptTemplate.from_messages([\n",
    "        (\"system\",\"You are a helpful assistant, write a 10 line summary\"),\n",
    "        (\"human\",\"Write 10 line summary of {content}\")\n",
    "    ])\n",
    "    chain=prompt|llm\n",
    "    response=chain.invoke({\"content\":content_to_write})\n",
    "    return {\"written_text\":response.content,\"written_done\":\"done\",\"next_agent\":\"command_center\"}"
   ]
  },
  {
   "cell_type": "code",
   "execution_count": 78,
   "id": "726c684b",
   "metadata": {},
   "outputs": [],
   "source": [
    "def router(state:stategraph):\n",
    "    if state['next_agent']=='analysis_agent':\n",
    "        return 'analysis_agent'\n",
    "    elif state['next_agent']=='writing_center':\n",
    "        return 'writing_agent'\n",
    "    elif state['next_agent']=='DONE':\n",
    "        return 'DONE'\n",
    "    else:\n",
    "        return 'command_center'"
   ]
  },
  {
   "cell_type": "code",
   "execution_count": 79,
   "id": "fc3ae312",
   "metadata": {},
   "outputs": [],
   "source": [
    "graph_state=StateGraph(stategraph)"
   ]
  },
  {
   "cell_type": "code",
   "execution_count": 80,
   "id": "5b84c95c",
   "metadata": {},
   "outputs": [
    {
     "data": {
      "text/plain": [
       "<langgraph.graph.state.StateGraph at 0x252e0bcf9d0>"
      ]
     },
     "execution_count": 80,
     "metadata": {},
     "output_type": "execute_result"
    }
   ],
   "source": [
    "graph_state.add_node(\"command_center\",command_center)\n",
    "graph_state.add_node(\"analysis_center\",analysis_center)\n",
    "graph_state.add_node(\"writing_center\",writing_center)\n",
    "graph_state.add_edge(START,\"command_center\")\n",
    "graph_state.add_edge(\"analysis_center\", \"command_center\")\n",
    "graph_state.add_edge(\"writing_center\", \"command_center\")\n",
    "graph_state.add_conditional_edges( \"command_center\",router,\n",
    "    {\n",
    "\"analysis_agent\":\"analysis_center\",\n",
    "\"command_center\":\"command_center\",\n",
    "\"writing_agent\":\"writing_center\",\n",
    "\"DONE\":END\n",
    "\n",
    "    }\n",
    ")\n"
   ]
  },
  {
   "cell_type": "code",
   "execution_count": 81,
   "id": "ce64e54b",
   "metadata": {},
   "outputs": [],
   "source": [
    "graph=graph_state.compile()"
   ]
  },
  {
   "cell_type": "code",
   "execution_count": 82,
   "id": "c780108a",
   "metadata": {},
   "outputs": [
    {
     "data": {
      "image/png": "[encoded data removed]",
      "text/plain": [
       "<langgraph.graph.state.CompiledStateGraph object at 0x00000252E0BCFBE0>"
      ]
     },
     "execution_count": 82,
     "metadata": {},
     "output_type": "execute_result"
    }
   ],
   "source": [
    "graph"
   ]
  },
  {
   "cell_type": "code",
   "execution_count": 83,
   "id": "80bd429b",
   "metadata": {},
   "outputs": [
    {
     "data": {
      "text/plain": [
       "{'messages': [HumanMessage(content='Benefits of agentic AI in data engineering', additional_kwargs={}, response_metadata={}, id='eb893e71-1078-4207-a0d0-46b3955e59b8')],\n",
       " 'next_agent': 'DONE',\n",
       " 'analyzed_text': \"Let's break down the benefits of agentic AI in data engineering. \\n\\n**Agentic AI: A Primer**\\n\\nAgentic AI refers to artificial intelligence systems that can act autonomously and make decisions within a defined scope.  They possess the ability to:\\n\\n* **Observe:** Gather and interpret data from their environment.\\n* **Reason:** Analyze the collected data and draw conclusions.\\n* **Act:** Execute tasks and make decisions based on their reasoning.\\n\\n**Benefits in Data Engineering**\\n\\nHere's how agentic AI can revolutionize data engineering:\\n\\n1. **Automation of Repetitive Tasks:**\\n\\n   * Data pipelines often involve mundane, repetitive tasks like data ingestion, cleaning, and transformation. \\n   * Agentic AI can automate these, freeing up data engineers to focus on more strategic initiatives.\\n\\n2. **Improved Efficiency and Scalability:**\\n\\n   * Agentic AI can process and analyze vast amounts of data at speeds far exceeding human capabilities.\\n   * This accelerates data processing, enabling real-time insights and faster decision-making.\\n\\n3. **Enhanced Data Quality:**\\n\\n   * AI-powered systems can identify and rectify data inconsistencies, errors, and anomalies more effectively than manual methods.\\n   * This leads to higher data quality, improving the reliability of downstream analyses and models.\\n\\n4. **Adaptive and Dynamic Pipelines:**\\n\\n   * Agentic AI can learn from changing data patterns and adapt data pipelines accordingly.\\n   * This ensures that pipelines remain efficient and relevant even as data sources and requirements evolve.\\n\\n5. **Reduced Costs:**\\n\\n   * By automating tasks and optimizing resource utilization, agentic AI can significantly reduce operational costs associated with data engineering.\\n\\n6. **Predictive Maintenance:**\\n\\n   * AI can monitor data pipelines for potential issues and proactively suggest solutions.\\n   * This minimizes downtime and ensures the smooth operation of critical data systems.\\n\\n**Examples in Action**\\n\\n* **Automated Data Ingestion:** AI can automatically extract data from various sources (databases, APIs, files) and load it into a data warehouse.\\n* **Intelligent Data Cleaning:** AI algorithms can identify and correct missing values, outliers, and inconsistencies in data.\\n* **Dynamic Pipeline Optimization:** AI can analyze data flow and automatically adjust pipeline parameters to improve performance and efficiency.\\n\\n\\n**Challenges and Considerations**\\n\\n* **Data Governance and Security:** \\n   * It's crucial to ensure that agentic AI systems adhere to strict data governance policies and security protocols.\\n\\n* **Explainability and Trust:**\\n   * Understanding how AI systems make decisions is essential for building trust and ensuring responsible use.\\n\\n* **Integration and Compatibility:**\\n   * Integrating agentic AI tools into existing data engineering workflows may require careful planning and adaptation.\\n\\n\\n**The Future**\\n\\nAgentic AI is poised to transform data engineering, empowering organizations to unlock the full potential of their data. As AI technology continues to advance, we can expect even more sophisticated and impactful applications in this domain.\\n\",\n",
       " 'written_text': \"Here's a 10-line summary of the benefits of agentic AI in data engineering:\\n\\nAgentic AI, with its ability to observe, reason, and act,  is revolutionizing data engineering. \\n\\nIt automates repetitive tasks like data ingestion and cleaning, freeing up engineers for strategic work.  \\n\\nAgentic AI processes data at incredible speeds, enabling real-time insights and faster decision-making.\\n\\nIts ability to identify and correct data inconsistencies enhances data quality, leading to more reliable analyses.\\n\\nAI-powered systems can adapt to changing data patterns, ensuring pipelines remain efficient and relevant.\\n\\nThis automation and optimization significantly reduce operational costs associated with data engineering.\\n\\nAgentic AI can predict potential issues in data pipelines, allowing for proactive maintenance and minimizing downtime.\\n\\nExamples include automated data ingestion, intelligent data cleaning, and dynamic pipeline optimization.\\n\\nHowever, challenges like data governance, explainability, and integration need careful consideration.\\n\\nOverall, agentic AI promises to unlock the full potential of data, empowering organizations to make smarter decisions and gain a competitive edge. \\n\\n\\n\",\n",
       " 'analysis_done': 'done',\n",
       " 'written_done': 'done'}"
      ]
     },
     "execution_count": 83,
     "metadata": {},
     "output_type": "execute_result"
    }
   ],
   "source": [
    "graph.invoke({\"messages\":\"Benefits of agentic AI in data engineering\",\"analysis_done\":\"\",\n",
    "\"next_agent\": \"\",\n",
    "\"analyzed_text\": \"\",\n",
    "\"written_text\":\"\",\n",
    "\"written_done\":\"\"\n",
    "})"
   ]
  },
  {
   "cell_type": "code",
   "execution_count": null,
   "id": "96b39a49",
   "metadata": {},
   "outputs": [],
   "source": []
  }
 ],
 "metadata": {
  "kernelspec": {
   "display_name": "Python 3",
   "language": "python",
   "name": "python3"
  },
  "language_info": {
   "codemirror_mode": {
    "name": "ipython",
    "version": 3
   },
   "file_extension": ".py",
   "mimetype": "text/x-python",
   "name": "python",
   "nbconvert_exporter": "python",
   "pygments_lexer": "ipython3",
   "version": "3.10.0"
  }
 },
 "nbformat": 4,
 "nbformat_minor": 5
}
